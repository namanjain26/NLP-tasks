{
 "cells": [
  {
   "cell_type": "code",
   "execution_count": 1,
   "metadata": {
    "collapsed": true
   },
   "outputs": [],
   "source": [
    "import nltk"
   ]
  },
  {
   "cell_type": "code",
   "execution_count": 2,
   "metadata": {
    "collapsed": true
   },
   "outputs": [],
   "source": [
    "texts = [\"\"\"The quick brown fox jumps over the lazy dog.\n",
    "That's not boring.\n",
    "That is kind of interesting.\n",
    "\"\"\"]"
   ]
  },
  {
   "cell_type": "code",
   "execution_count": 3,
   "metadata": {},
   "outputs": [
    {
     "name": "stdout",
     "output_type": "stream",
     "text": [
      "[('The', 'DT'), ('quick', 'JJ'), ('brown', 'NN'), ('fox', 'NN'), ('jumps', 'VBZ'), ('over', 'IN'), ('the', 'DT'), ('lazy', 'JJ'), ('dog', 'NN'), ('.', '.')]\n",
      "[('That', 'DT'), (\"'s\", 'VBZ'), ('not', 'RB'), ('boring', 'JJ'), ('.', '.')]\n",
      "[('That', 'DT'), ('is', 'VBZ'), ('kind', 'NN'), ('of', 'IN'), ('interesting', 'NN'), ('.', '.')]\n"
     ]
    }
   ],
   "source": [
    "for text in texts:\n",
    "    sentences = nltk.sent_tokenize(text)\n",
    "    for sentence in sentences:\n",
    "        words = nltk.word_tokenize(sentence)\n",
    "        tags = nltk.pos_tag(words)\n",
    "        print (tags)\n",
    "        "
   ]
  },
  {
   "cell_type": "code",
   "execution_count": 4,
   "metadata": {
    "collapsed": true
   },
   "outputs": [],
   "source": [
    "from nltk.corpus import stopwords"
   ]
  },
  {
   "cell_type": "code",
   "execution_count": 5,
   "metadata": {},
   "outputs": [
    {
     "name": "stdout",
     "output_type": "stream",
     "text": [
      "['arabic', 'azerbaijani', 'danish', 'dutch', 'english', 'finnish', 'french', 'german', 'greek', 'hungarian', 'indonesian', 'italian', 'kazakh', 'nepali', 'norwegian', 'portuguese', 'romanian', 'russian', 'spanish', 'swedish', 'turkish']\n",
      "21\n"
     ]
    }
   ],
   "source": [
    "print(stopwords.fileids())\n",
    "print(len(stopwords.fileids()))\n"
   ]
  },
  {
   "cell_type": "code",
   "execution_count": 6,
   "metadata": {
    "collapsed": true
   },
   "outputs": [],
   "source": [
    "entries = nltk.corpus.cmudict.entries()"
   ]
  },
  {
   "cell_type": "code",
   "execution_count": 7,
   "metadata": {},
   "outputs": [
    {
     "name": "stdout",
     "output_type": "stream",
     "text": [
      "[('a', ['AH0']), ('a.', ['EY1']), ('a', ['EY1']), ...]\n"
     ]
    }
   ],
   "source": [
    "print (entries)"
   ]
  },
  {
   "cell_type": "code",
   "execution_count": 8,
   "metadata": {},
   "outputs": [
    {
     "name": "stdout",
     "output_type": "stream",
     "text": [
      "133737\n"
     ]
    }
   ],
   "source": [
    "print (len(entries))"
   ]
  },
  {
   "cell_type": "code",
   "execution_count": 9,
   "metadata": {},
   "outputs": [
    {
     "data": {
      "text/plain": [
       "[('belford', ['B', 'EH1', 'L', 'F', 'ER0', 'D']),\n",
       " ('belfry', ['B', 'EH1', 'L', 'F', 'R', 'IY0']),\n",
       " ('belgacom', ['B', 'EH1', 'L', 'G', 'AH0', 'K', 'AA0', 'M']),\n",
       " ('belgacom', ['B', 'EH1', 'L', 'JH', 'AH0', 'K', 'AA0', 'M']),\n",
       " ('belgard', ['B', 'EH0', 'L', 'G', 'AA1', 'R', 'D']),\n",
       " ('belgarde', ['B', 'EH0', 'L', 'G', 'AA1', 'R', 'D', 'IY0']),\n",
       " ('belge', ['B', 'EH1', 'L', 'JH', 'IY0']),\n",
       " ('belger', ['B', 'EH1', 'L', 'G', 'ER0']),\n",
       " ('belgian', ['B', 'EH1', 'L', 'JH', 'AH0', 'N']),\n",
       " ('belgians', ['B', 'EH1', 'L', 'JH', 'AH0', 'N', 'Z']),\n",
       " ('belgique', ['B', 'EH0', 'L', 'ZH', 'IY1', 'K']),\n",
       " (\"belgique's\", ['B', 'EH0', 'L', 'JH', 'IY1', 'K', 'S']),\n",
       " ('belgium', ['B', 'EH1', 'L', 'JH', 'AH0', 'M']),\n",
       " (\"belgium's\", ['B', 'EH1', 'L', 'JH', 'AH0', 'M', 'Z']),\n",
       " ('belgo', ['B', 'EH1', 'L', 'G', 'OW2']),\n",
       " ('belgrade', ['B', 'EH1', 'L', 'G', 'R', 'EY0', 'D']),\n",
       " ('belgrade', ['B', 'EH1', 'L', 'G', 'R', 'AA2', 'D']),\n",
       " (\"belgrade's\", ['B', 'EH1', 'L', 'G', 'R', 'EY0', 'D', 'Z']),\n",
       " (\"belgrade's\", ['B', 'EH1', 'L', 'G', 'R', 'AA2', 'D', 'Z']),\n",
       " ('belgrave', ['B', 'EH1', 'L', 'G', 'R', 'EY2', 'V']),\n",
       " ('beli', ['B', 'EH1', 'L', 'IY0']),\n",
       " ('belich', ['B', 'EH1', 'L', 'IH0', 'K']),\n",
       " ('belie', ['B', 'IH0', 'L', 'AY1']),\n",
       " ('belied', ['B', 'IH0', 'L', 'AY1', 'D']),\n",
       " ('belief', ['B', 'IH0', 'L', 'IY1', 'F'])]"
      ]
     },
     "execution_count": 9,
     "metadata": {},
     "output_type": "execute_result"
    }
   ],
   "source": [
    "[x for x in entries[10000:10025]]"
   ]
  },
  {
   "cell_type": "markdown",
   "metadata": {},
   "source": [
    "Here, one item is in the form of  => <(word), (phonetical pronunciation)>"
   ]
  },
  {
   "cell_type": "code",
   "execution_count": 10,
   "metadata": {
    "collapsed": true
   },
   "outputs": [],
   "source": [
    "from nltk.corpus import wordnet as wn"
   ]
  },
  {
   "cell_type": "code",
   "execution_count": 11,
   "metadata": {},
   "outputs": [
    {
     "data": {
      "text/plain": [
       "[Synset('car.n.01')]"
      ]
     },
     "execution_count": 11,
     "metadata": {},
     "output_type": "execute_result"
    }
   ],
   "source": [
    "wn.synsets(\"motorcar\") ## Synonym sets"
   ]
  },
  {
   "cell_type": "markdown",
   "metadata": {},
   "source": [
    "This is the id for the synonym set for motorcar i.e. \"motorcar\""
   ]
  },
  {
   "cell_type": "code",
   "execution_count": 12,
   "metadata": {},
   "outputs": [
    {
     "data": {
      "text/plain": [
       "['car', 'auto', 'automobile', 'machine', 'motorcar']"
      ]
     },
     "execution_count": 12,
     "metadata": {},
     "output_type": "execute_result"
    }
   ],
   "source": [
    "wn.synset(\"car.n.01\").lemma_names()"
   ]
  },
  {
   "cell_type": "code",
   "execution_count": 13,
   "metadata": {},
   "outputs": [
    {
     "data": {
      "text/plain": [
       "[Synset('ebullient.s.01')]"
      ]
     },
     "execution_count": 13,
     "metadata": {},
     "output_type": "execute_result"
    }
   ],
   "source": [
    "wn.synsets(\"ebullient\")"
   ]
  },
  {
   "cell_type": "code",
   "execution_count": 14,
   "metadata": {},
   "outputs": [
    {
     "data": {
      "text/plain": [
       "['ebullient', 'exuberant', 'high-spirited']"
      ]
     },
     "execution_count": 14,
     "metadata": {},
     "output_type": "execute_result"
    }
   ],
   "source": [
    "wn.synset(\"ebullient.s.01\").lemma_names()"
   ]
  },
  {
   "cell_type": "code",
   "execution_count": 15,
   "metadata": {
    "collapsed": true
   },
   "outputs": [],
   "source": [
    "texts = [\"\"\"The quick brown fox jumps over the lazy dog.\n",
    "That's not boring.\n",
    "That is kind of interesting.\n",
    "\"\"\"]"
   ]
  },
  {
   "cell_type": "code",
   "execution_count": 16,
   "metadata": {},
   "outputs": [
    {
     "name": "stdout",
     "output_type": "stream",
     "text": [
      "[('The', 'DT'), ('quick', 'JJ'), ('brown', 'NN'), ('fox', 'NN'), ('jumps', 'VBZ'), ('over', 'IN'), ('the', 'DT'), ('lazy', 'JJ'), ('dog', 'NN'), ('.', '.')]\n",
      "[('That', 'DT'), (\"'s\", 'VBZ'), ('not', 'RB'), ('boring', 'JJ'), ('.', '.')]\n",
      "[('That', 'DT'), ('is', 'VBZ'), ('kind', 'NN'), ('of', 'IN'), ('interesting', 'NN'), ('.', '.')]\n"
     ]
    }
   ],
   "source": [
    "for text in texts:\n",
    "    sentences = nltk.sent_tokenize(text)\n",
    "    for sentence in sentences:\n",
    "        words = nltk.word_tokenize(sentence)\n",
    "        tags = nltk.pos_tag(words)\n",
    "        print (tags)"
   ]
  },
  {
   "cell_type": "code",
   "execution_count": 17,
   "metadata": {
    "collapsed": true
   },
   "outputs": [],
   "source": [
    "from nltk.tokenize import TweetTokenizer"
   ]
  },
  {
   "cell_type": "code",
   "execution_count": 18,
   "metadata": {
    "collapsed": true
   },
   "outputs": [],
   "source": [
    "text = \"The party was sooooo fun. It was legit af :D <3  #fun\""
   ]
  },
  {
   "cell_type": "code",
   "execution_count": 19,
   "metadata": {
    "collapsed": true
   },
   "outputs": [],
   "source": [
    "tokens = TweetTokenizer().tokenize(text)"
   ]
  },
  {
   "cell_type": "code",
   "execution_count": 20,
   "metadata": {},
   "outputs": [
    {
     "data": {
      "text/plain": [
       "['The',\n",
       " 'party',\n",
       " 'was',\n",
       " 'sooooo',\n",
       " 'fun',\n",
       " '.',\n",
       " 'It',\n",
       " 'was',\n",
       " 'legit',\n",
       " 'af',\n",
       " ':D',\n",
       " '<3',\n",
       " '#fun']"
      ]
     },
     "execution_count": 20,
     "metadata": {},
     "output_type": "execute_result"
    }
   ],
   "source": [
    "tokens"
   ]
  },
  {
   "cell_type": "code",
   "execution_count": null,
   "metadata": {
    "collapsed": true
   },
   "outputs": [],
   "source": []
  }
 ],
 "metadata": {
  "kernelspec": {
   "display_name": "Python 3",
   "language": "python",
   "name": "python3"
  },
  "language_info": {
   "codemirror_mode": {
    "name": "ipython",
    "version": 3
   },
   "file_extension": ".py",
   "mimetype": "text/x-python",
   "name": "python",
   "nbconvert_exporter": "python",
   "pygments_lexer": "ipython3",
   "version": "3.6.1"
  }
 },
 "nbformat": 4,
 "nbformat_minor": 2
}
