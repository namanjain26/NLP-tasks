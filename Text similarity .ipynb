{
 "cells": [
  {
   "cell_type": "code",
   "execution_count": 2,
   "metadata": {},
   "outputs": [],
   "source": [
    "from nltk import PorterStemmer\n",
    "from nltk.stem import WordNetLemmatizer"
   ]
  },
  {
   "cell_type": "code",
   "execution_count": 3,
   "metadata": {
    "collapsed": true
   },
   "outputs": [],
   "source": [
    "stemmer= PorterStemmer()"
   ]
  },
  {
   "cell_type": "code",
   "execution_count": 4,
   "metadata": {
    "collapsed": true
   },
   "outputs": [],
   "source": [
    "text = \"In a country like India, where a mass of population lives in the villages, there are times when parents have work to take care of and cannot keep an eye on their children all day round. In many cases, when even the females in houses have to go to work, but cannot always carry their children along with them, they have no other choice but to leave them back at their homes. Due to these reasons and more, there has been a rapid increase in security risks of children recently. The current statistics report around 174 child missing cases on an everyday basis and about 505 are still not found in India. Is there a way to improve this situation? Is there any way by which parents can keep a track on their child even while not being around? Our project mainly aims at helping these parents out, so we propose a smart child tracking wearable system which helps them to keep track of the live location of the child at any given time. This system is implemented as a wearable band-like device which when wore by the child, helps in locating it.\""
   ]
  },
  {
   "cell_type": "code",
   "execution_count": 5,
   "metadata": {},
   "outputs": [
    {
     "data": {
      "text/plain": [
       "'In a countri like india, where a mass of popul live in the villages, there are time when parent have work to take care of and cannot keep an eye on their children all day round. In mani cases, when even the femal in hous have to go to work, but cannot alway carri their children along with them, they have no other choic but to leav them back at their homes. due to these reason and more, there ha been a rapid increas in secur risk of children recently. the current statist report around 174 child miss case on an everyday basi and about 505 are still not found in india. Is there a way to improv thi situation? Is there ani way by which parent can keep a track on their child even while not be around? our project mainli aim at help these parent out, so we propos a smart child track wearabl system which help them to keep track of the live locat of the child at ani given time. thi system is implement as a wearabl band-lik devic which when wore by the child, help in locat it.'"
      ]
     },
     "execution_count": 5,
     "metadata": {},
     "output_type": "execute_result"
    }
   ],
   "source": [
    "text = [stemmer.stem(token) for token in text.split(\" \")]\n",
    "text = \" \".join(text)\n",
    "text"
   ]
  },
  {
   "cell_type": "code",
   "execution_count": 6,
   "metadata": {
    "collapsed": true
   },
   "outputs": [],
   "source": [
    "lemmatizer = WordNetLemmatizer()"
   ]
  },
  {
   "cell_type": "code",
   "execution_count": 7,
   "metadata": {
    "collapsed": true
   },
   "outputs": [],
   "source": [
    "text = \"In a country like India, where a mass of population lives in the villages, there are times when parents have work to take care of and cannot keep an eye on their children all day round. In many cases, when even the females in houses have to go to work, but cannot always carry their children along with them, they have no other choice but to leave them back at their homes. Due to these reasons and more, there has been a rapid increase in security risks of children recently. The current statistics report around 174 child missing cases on an everyday basis and about 505 are still not found in India. Is there a way to improve this situation? Is there any way by which parents can keep a track on their child even while not being around? Our project mainly aims at helping these parents out, so we propose a smart child tracking wearable system which helps them to keep track of the live location of the child at any given time. This system is implemented as a wearable band-like device which when wore by the child, helps in locating it.\"\n",
    "text = [lemmatizer.lemmatize(token) for token in text.split(\" \")]\n",
    "text = \" \".join(text)"
   ]
  },
  {
   "cell_type": "code",
   "execution_count": 8,
   "metadata": {},
   "outputs": [
    {
     "data": {
      "text/plain": [
       "'In a country like India, where a mass of population life in the villages, there are time when parent have work to take care of and cannot keep an eye on their child all day round. In many cases, when even the female in house have to go to work, but cannot always carry their child along with them, they have no other choice but to leave them back at their homes. Due to these reason and more, there ha been a rapid increase in security risk of child recently. The current statistic report around 174 child missing case on an everyday basis and about 505 are still not found in India. Is there a way to improve this situation? Is there any way by which parent can keep a track on their child even while not being around? Our project mainly aim at helping these parent out, so we propose a smart child tracking wearable system which help them to keep track of the live location of the child at any given time. This system is implemented a a wearable band-like device which when wore by the child, help in locating it.'"
      ]
     },
     "execution_count": 8,
     "metadata": {},
     "output_type": "execute_result"
    }
   ],
   "source": [
    "text"
   ]
  },
  {
   "cell_type": "code",
   "execution_count": 9,
   "metadata": {},
   "outputs": [
    {
     "name": "stdout",
     "output_type": "stream",
     "text": [
      "better\n",
      "good\n"
     ]
    }
   ],
   "source": [
    "print(lemmatizer.lemmatize('better'))\n",
    "print(lemmatizer.lemmatize('better', pos = 'a'))"
   ]
  },
  {
   "cell_type": "code",
   "execution_count": 10,
   "metadata": {},
   "outputs": [
    {
     "name": "stdout",
     "output_type": "stream",
     "text": [
      "In a country like India, where a mass of population life in the villages, there are time when parent have work to take care of and cannot keep an eye on their child all day round. In many cases, when even the female in house have to go to work, but cannot always carry their child along with them, they have no other choice but to leave them back at their homes. Due to these reason and more, there ha been a rapid increase in security risk of child recently. The current statistic report around 174 child missing case on an everyday basis and about 505 are still not found in India. Is there a way to improve this situation? Is there any way by which parent can keep a track on their child even while not being around? Our project mainly aim at helping these parent out, so we propose a smart child tracking wearable system which help them to keep track of the live location of the child at any given time. This system is implemented a a wearable band-like device which when wore by the child, help in locating it.\n"
     ]
    }
   ],
   "source": [
    "text = \"In a country like India, where a mass of population lives in the villages, there are times when parents have work to take care of and cannot keep an eye on their children all day round. In many cases, when even the females in houses have to go to work, but cannot always carry their children along with them, they have no other choice but to leave them back at their homes. Due to these reasons and more, there has been a rapid increase in security risks of children recently. The current statistics report around 174 child missing cases on an everyday basis and about 505 are still not found in India. Is there a way to improve this situation? Is there any way by which parents can keep a track on their child even while not being around? Our project mainly aims at helping these parents out, so we propose a smart child tracking wearable system which helps them to keep track of the live location of the child at any given time. This system is implemented as a wearable band-like device which when wore by the child, helps in locating it.\"\n",
    "text = [lemmatizer.lemmatize(token) for token in text.split(\" \")]\n",
    "text = \" \".join(text)\n",
    "print(lemmatizer.lemmatize(text, pos = 'a'))"
   ]
  },
  {
   "cell_type": "code",
   "execution_count": 11,
   "metadata": {},
   "outputs": [
    {
     "data": {
      "text/plain": [
       "'mouse'"
      ]
     },
     "execution_count": 11,
     "metadata": {},
     "output_type": "execute_result"
    }
   ],
   "source": [
    "text = \"mice\"\n",
    "text = [lemmatizer.lemmatize(token) for token in text.split(\" \")]\n",
    "text = \" \".join(text)\n",
    "text"
   ]
  },
  {
   "cell_type": "code",
   "execution_count": null,
   "metadata": {
    "collapsed": true
   },
   "outputs": [],
   "source": []
  },
  {
   "cell_type": "code",
   "execution_count": 12,
   "metadata": {
    "collapsed": true
   },
   "outputs": [],
   "source": [
    "from sklearn.feature_extraction.text import CountVectorizer\n",
    "from sklearn.feature_extraction.text import TfidfVectorizer\n",
    "from sklearn.metrics.pairwise import cosine_similarity"
   ]
  },
  {
   "cell_type": "code",
   "execution_count": 13,
   "metadata": {},
   "outputs": [
    {
     "name": "stdout",
     "output_type": "stream",
     "text": [
      "[[0 0 0 0 0 0 0 0 0 0 0 0 0 0 0 0 1 0 0 0 0 0 0 0 0 0 0 0 0 0 0 0 0 0 0 1 0\n",
      "  0 0 0 0 1 1 0 0 0 0 0 0 0 0 0 0 0 0 0 1 0 0 0 0 0 0]]\n",
      "  (0, 16)\t1\n",
      "  (0, 35)\t1\n",
      "  (0, 41)\t1\n",
      "  (0, 42)\t1\n",
      "  (0, 56)\t1\n"
     ]
    }
   ],
   "source": [
    "vector = CountVectorizer(binary = True)\n",
    "corpus = [\"In a country like India, where a mass of population lives in the villages\", \"there are times when parents have work to take care of and cannot keep an eye on their children all day round\", \"In many cases, when even the females in houses have to go to work, but cannot always carry their children along with them\", \"they have no other choice but to leave them back at their homes. Due to these reasons and more, there has been a rapid increase in security risks of children recently\"]\n",
    "vector.fit(corpus)\n",
    "print(vector.transform([\"country population mass times parents parents parents hello\"]).toarray())\n",
    "print(vector.transform([\"country population mass times parents parents parents hello\"]))"
   ]
  },
  {
   "cell_type": "code",
   "execution_count": 15,
   "metadata": {},
   "outputs": [
    {
     "name": "stdout",
     "output_type": "stream",
     "text": [
      "[[0 0 0 0 0 0 0 0 0 0 0 0 0 0 0 0 1 0 0 0 0 0 0 0 0 0 0 0 0 0 0 0 0 0 0 1 0\n",
      "  0 0 0 0 3 1 0 0 0 0 0 0 0 0 0 0 0 0 0 1 0 0 0 0 0 0]]\n",
      "  (0, 16)\t1\n",
      "  (0, 35)\t1\n",
      "  (0, 41)\t3\n",
      "  (0, 42)\t1\n",
      "  (0, 56)\t1\n"
     ]
    }
   ],
   "source": [
    "vector = CountVectorizer(binary = False)\n",
    "corpus = [\"In a country like India, where a mass of population lives in the villages\", \"there are times when parents have work to take care of and cannot keep an eye on their children all day round\", \"In many cases, when even the females in houses have to go to work, but cannot always carry their children along with them\", \"they have no other choice but to leave them back at their homes. Due to these reasons and more, there has been a rapid increase in security risks of children recently\"]\n",
    "vector.fit(corpus)\n",
    "v1 = vector.transform([\"country population mass times parents parents parents hello\"]).toarray()\n",
    "print(v1)\n",
    "v2 = vector.transform([\"hello world country population so scared\"]).toarray()\n",
    "print(vector.transform([\"country population mass times parents parents parents hello\"]))"
   ]
  },
  {
   "cell_type": "code",
   "execution_count": 16,
   "metadata": {
    "collapsed": true
   },
   "outputs": [],
   "source": [
    "similarity = cosine_similarity(v1, v2)"
   ]
  },
  {
   "cell_type": "code",
   "execution_count": 17,
   "metadata": {},
   "outputs": [
    {
     "name": "stdout",
     "output_type": "stream",
     "text": [
      "[[ 0.39223227]]\n"
     ]
    }
   ],
   "source": [
    "print(similarity)"
   ]
  },
  {
   "cell_type": "code",
   "execution_count": null,
   "metadata": {
    "collapsed": true
   },
   "outputs": [],
   "source": []
  },
  {
   "cell_type": "code",
   "execution_count": 18,
   "metadata": {
    "collapsed": true
   },
   "outputs": [],
   "source": [
    "from sklearn.feature_extraction.text import CountVectorizer\n",
    "from sklearn.feature_extraction.text import TfidfVectorizer\n",
    "from sklearn.metrics.pairwise import cosine_similarity\n",
    "from nltk.tokenize import sent_tokenize"
   ]
  },
  {
   "cell_type": "code",
   "execution_count": 19,
   "metadata": {},
   "outputs": [
    {
     "name": "stdout",
     "output_type": "stream",
     "text": [
      "[[0 0 0 0 0 0 0 0 0 0 0 0 0 0 0 0 1 0 0 0 0 0 0 0 0 0 0 0 0 0 0 0 0 0 0 1 0\n",
      "  0 0 0 0 1 1 0 0 0 0 0 0 0 0 0 0 0 0 0 1 0 0 0 0 0 0]]\n",
      "  (0, 16)\t1\n",
      "  (0, 35)\t1\n",
      "  (0, 41)\t1\n",
      "  (0, 42)\t1\n",
      "  (0, 56)\t1\n"
     ]
    }
   ],
   "source": [
    "vector = CountVectorizer(binary = True)\n",
    "corpus = [\"In a country like India, where a mass of population lives in the villages\", \"there are times when parents have work to take care of and cannot keep an eye on their children all day round\", \"In many cases, when even the females in houses have to go to work, but cannot always carry their children along with them\", \"they have no other choice but to leave them back at their homes. Due to these reasons and more, there has been a rapid increase in security risks of children recently\"]\n",
    "vector.fit(corpus)\n",
    "print(vector.transform([\"country population mass times parents parents parents hello\"]).toarray())\n",
    "print(vector.transform([\"country population mass times parents parents parents hello\"]))"
   ]
  },
  {
   "cell_type": "code",
   "execution_count": 20,
   "metadata": {},
   "outputs": [
    {
     "name": "stdout",
     "output_type": "stream",
     "text": [
      "[[0 0 1 0 0 4 0 1 1 0 2 1 1 0 1 1 1 1 0 0 1 1 0 0 1 1 1 0 1 1 1 0 0 1 0 1 1\n",
      "  1 1 1 1 1 0 1 1 1 0 0 1 1 0 1 1 0 0 1 1 1 2 0 1 0 0 0 0 0 1 1 1 0 2 0 0 1\n",
      "  0 1 2 4 2 1 0 0 0 0 1 1 1 0 0 0 2 1 0 1 1 0 1 1 0 0 0 0 0 1 0 0 1 1 0 0 0\n",
      "  1 1 0 1 0 1 0 1 0 1 1 2 0 0 0 2 3 0 0 0 0 3 1 0 0 0 0 1 0 0 1 2 0 1 1 1 1\n",
      "  0 0]]\n"
     ]
    }
   ],
   "source": [
    "vector = CountVectorizer(binary = False)\n",
    "a = \"Summer is a charming flirt. Easy going and casual. Summer doesn't huff and puff to win our affections.It has us at \\\"Hello.\\\" Winter broods like the tortured protagonist of big fat Russiannovel. It is daunting and dramatic, burning with a slow intensity. The season's reputation precedes itself.\\\n",
    "and often, not in a good way. It has a way of\\\n",
    "whittling down everything to its bare bones.\\\n",
    "Even relationships not attuned to its ebbs\\\n",
    "and flows can fray. At a dinner conversation I\\\n",
    "once attended, I listened in bemusement as a recent divorcee made the case that it was\\\n",
    "the Scandinavian frost that had cooled hisex-wife's ardour. How original. One of the finer books I read this\\\n",
    "year was John Kaag's Hiking\\\n",
    "With Nietzsche, in which Kaag.\\\n",
    "a professor of philosophy,\\\n",
    "kindles his passion for the German thinker\\\n",
    "while tracing picturesque hiking trails in\\\n",
    "the mountains of Switzerland. It's a near-\\\n",
    "precise rendering of the travelogue as a\\\n",
    "self-help book. A young Kaag was an avowed\\\n",
    "Nietzsche acolyte but given the ravages of\\\n",
    "responsit is inity to test by undertaking physically\\\n",
    "enduring hikes through the Alps, revisiting haunts tha search of demands. cou\\\n",
    "are catnip for anybody feeling at cross\\\n",
    "purposes vith their own life.\\\n",
    "ilities and adulthood, the writer put\\\n",
    "hilosopher escaped to, in\\\n",
    "olitude and salve.\"\n",
    "corpus = sent_tokenize(a)\n",
    "vector.fit(corpus)\n",
    "\n",
    "\n",
    "v1 = vector.transform([\"Summer is a charming flirt. Easy going and casual. Summer doesn't huff and puff to win our affections.It has us at \\\"Hello.\\\" Winter broods like the tortured protagonist of big fat Russiannovel. It is daunting and dramatic, burning with a slow intensity. The season's reputation precedes itself.\\\n",
    "and often, not in a good way. It has a way of\\\n",
    "whittling down everything to its bare bones.\\\n",
    "Even relationships not attuned to its ebbs\\\n",
    "and flows can fray. At a dinner conversation I\\\n",
    "once attended, I listened in bemusement as a recent divorcee made the case that it was\\\n",
    "the Scandinavian frost that had cooled hisex-wife's ardour. How original.\"]).toarray()\n",
    "print(v1)\n",
    "\n",
    "\n",
    "v2 = vector.transform([\"One of the finer books I read this\\\n",
    "year was John Kaag's Hiking\\\n",
    "With Nietzsche, in which Kaag.\\\n",
    "a professor of philosophy,\\\n",
    "kindles his passion for the German thinker\\\n",
    "while tracing picturesque hiking trails in\\\n",
    "the mountains of Switzerland. It's a near-\\\n",
    "precise rendering of the travelogue as a\\\n",
    "self-help book. A young Kaag was an avowed\\\n",
    "Nietzsche acolyte but given the ravages of\\\n",
    "responsit is inity to test by undertaking physically\\\n",
    "enduring hikes through the Alps, revisiting haunts tha search of demands. cou\\\n",
    "are catnip for anybody feeling at cross\\\n",
    "purposes vith their own life.\\\n",
    "ilities and adulthood, the writer put\\\n",
    "hilosopher escaped to, in\\\n",
    "olitude and salve.\"]).toarray()"
   ]
  },
  {
   "cell_type": "code",
   "execution_count": 21,
   "metadata": {},
   "outputs": [
    {
     "data": {
      "text/plain": [
       "array([[ 0.30872157]])"
      ]
     },
     "execution_count": 21,
     "metadata": {},
     "output_type": "execute_result"
    }
   ],
   "source": [
    "similarity = cosine_similarity(v1, v2)\n",
    "similarity"
   ]
  },
  {
   "cell_type": "code",
   "execution_count": null,
   "metadata": {
    "collapsed": true
   },
   "outputs": [],
   "source": []
  }
 ],
 "metadata": {
  "kernelspec": {
   "display_name": "Python 3",
   "language": "python",
   "name": "python3"
  },
  "language_info": {
   "codemirror_mode": {
    "name": "ipython",
    "version": 3
   },
   "file_extension": ".py",
   "mimetype": "text/x-python",
   "name": "python",
   "nbconvert_exporter": "python",
   "pygments_lexer": "ipython3",
   "version": "3.6.1"
  }
 },
 "nbformat": 4,
 "nbformat_minor": 2
}
